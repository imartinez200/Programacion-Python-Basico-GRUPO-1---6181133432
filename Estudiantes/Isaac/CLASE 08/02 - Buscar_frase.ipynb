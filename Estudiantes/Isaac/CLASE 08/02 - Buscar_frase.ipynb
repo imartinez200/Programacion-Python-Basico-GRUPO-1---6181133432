{
 "cells": [
  {
   "cell_type": "markdown",
   "metadata": {},
   "source": [
    "\n",
    "# Ejemplos de expresiones regulares en Python\n",
    "\n",
    "## 1. Coincidir con una palabra específica:\n",
    "\n",
    "\n",
    "- Se importa el módulo `re` para trabajar con expresiones regulares.\n",
    "- Se define el patrón `frase` que queremos buscar.\n",
    "- La función `re.search()` busca el patrón en el texto."
   ]
  },
  {
   "cell_type": "code",
   "execution_count": null,
   "metadata": {},
   "outputs": [],
   "source": [
    "import re\n",
    "\n",
    "texto = \"Esta es una frase con varias palabras.\"\n",
    "\n",
    "# Buscar la palabra \"frase\"\n",
    "patron = \"frase\"\n",
    "\n",
    "    \n",
    "#Salida esperada -> Se encontró la palabra: frase"
   ]
  },
  {
   "cell_type": "markdown",
   "metadata": {},
   "source": [
    "### Problema al buscar una frase en mayúscula con expresiones regulares\n",
    "\n",
    "Por defecto es que las expresiones regulares son sensibles a las mayúsculas y minúsculas. Esto significa que si defines un patrón en minúsculas, solo coincidirá con cadenas que también estén en minúsculas"
   ]
  },
  {
   "cell_type": "code",
   "execution_count": null,
   "metadata": {},
   "outputs": [],
   "source": [
    "texto = \"ESTA ES UNA FRASE CON VARIAS PALABRAS.\" #FRASE en mayuscula != frase\n",
    "\n",
    "# Buscar la palabra \"frase\"\n",
    "patron = \"frase\"\n",
    "\n",
    "\n",
    "    \n",
    "#Salida esperada -> No se encontró la palabra: frase"
   ]
  },
  {
   "cell_type": "markdown",
   "metadata": {},
   "source": [
    "### Reto modifica el código:\n",
    "Modifica el código para que encuentre la palabra “frase” sin importar mayúsculas o minúsculas\n",
    "\n",
    "`Pista -> re.IGNORECASE`"
   ]
  },
  {
   "cell_type": "code",
   "execution_count": null,
   "metadata": {},
   "outputs": [],
   "source": [
    "texto = \"ESTA ES UNA FRASE CON VARIAS PALABRAS.\"\n",
    "\n",
    "# Buscar la palabra \"frase\"\n",
    "patron = \"frase\"\n",
    "\n",
    "\n",
    "    \n",
    "#Salida esperada -> Se encontró la palabra: frase"
   ]
  }
 ],
 "metadata": {
  "kernelspec": {
   "display_name": "Python 3",
   "language": "python",
   "name": "python3"
  },
  "language_info": {
   "codemirror_mode": {
    "name": "ipython",
    "version": 3
   },
   "file_extension": ".py",
   "mimetype": "text/x-python",
   "name": "python",
   "nbconvert_exporter": "python",
   "pygments_lexer": "ipython3",
   "version": "3.12.7"
  }
 },
 "nbformat": 4,
 "nbformat_minor": 2
}
