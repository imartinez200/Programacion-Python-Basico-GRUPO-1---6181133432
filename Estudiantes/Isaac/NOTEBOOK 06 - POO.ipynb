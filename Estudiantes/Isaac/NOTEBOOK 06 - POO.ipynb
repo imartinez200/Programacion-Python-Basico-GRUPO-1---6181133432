{
 "cells": [
  {
   "cell_type": "markdown",
   "metadata": {},
   "source": [
    "# 📌 Programación Orientada a Objetos(POO) en Python\n",
    "## 1. Introducción a la POO \n",
    "- ¿Qué es la POO? \n",
    "- Características principales \n",
    "- Comparación con la programación estructurada \n",
    "\n",
    "## 2. Conceptos Claves de la POO \n",
    "- Clases y Objetos \n",
    "- Atributos y Métodos \n",
    "- Encapsulamiento \n",
    "- Herencia \n",
    "- Polimorfismo \n",
    "\n",
    "## 3. Ejemplos Prácticos de cada Concepto \n",
    "- Definir una clase simple \n",
    "- Crear y manipular objetos \n",
    "- Aplicar herencia y polimorfismo \n",
    "\n",
    "## 4. Desarrollo de un Proyecto Aplicado \n",
    "- Descripción del proyecto \n",
    "- Implementación paso a paso \n",
    "\n",
    "--- \n",
    "\n",
    "## 🟢 1. Introducción a la POO \n",
    "La **Programación Orientada a Objetos (POO)** es un paradigma de programación basado en la idea de modelar entidades del mundo real a través de **objetos**. \n",
    "\n",
    "### ✅ Características clave de la POO: \n",
    "- **Abstracción:** Modela objetos del mundo real en código. \n",
    "- **Encapsulamiento:** Protege los datos y métodos dentro de una clase. \n",
    "- **Herencia:** Permite reutilizar código mediante la relación padre-hijo. \n",
    "- **Polimorfismo:** Usa el mismo método con diferentes implementaciones. \n",
    "\n",
    "### 📌 Diferencia entre programación estructurada y POO: \n",
    "\n",
    "| Característica | Programación Estructurada | Programación Orientada a Objetos | \n",
    "|---------------------|------------------------|--------------------------------| \n",
    "| **Organización** | Basada en funciones | Basada en clases y objetos | \n",
    "| **Reutilización** | Baja | Alta | \n",
    "| **Mantenimiento** | Más complejo | Más modular y escalable | \n",
    "\n",
    "# 🟡 2. Conceptos Claves de la POO en Python\n",
    "## 📌 Clases y Objetos\n",
    "En Python, una clase es un *modelo* que define la estructura y comportamiento de un objeto. Un objeto es una instancia de una clase."
   ]
  },
  {
   "cell_type": "code",
   "execution_count": 1,
   "metadata": {},
   "outputs": [
    {
     "name": "stdout",
     "output_type": "stream",
     "text": [
      "El objetos 2749115891200 tiene el atributo nombre como Emmanuel Alfaro\n",
      "El objetos 2749115540624 tiene el atributo nombre como Mariana Villalobos\n",
      "El objetos 2749115539984 tiene el atributo nombre como Andrés Mena\n"
     ]
    }
   ],
   "source": [
    "#Como crear una clase\n",
    "class Persona:\n",
    "    def __init__(self,name,age):\n",
    "        self.nombre = name\n",
    "        self.edad = age\n",
    "\n",
    "\n",
    "estudiante = Persona('Emmanuel Alfaro',28)\n",
    "estudiante2 = Persona('Mariana Villalobos', 25)\n",
    "profesor = Persona('Andrés Mena',33)\n",
    "\n",
    "\n",
    "print (f'El objetos {id(estudiante)} tiene el atributo nombre como {estudiante.nombre}')\n",
    "print (f'El objetos {id(estudiante2)} tiene el atributo nombre como {estudiante2.nombre}')\n",
    "print (f'El objetos {id(profesor)} tiene el atributo nombre como {profesor.nombre}')\n",
    "\n"
   ]
  },
  {
   "cell_type": "code",
   "execution_count": 2,
   "metadata": {},
   "outputs": [
    {
     "name": "stdout",
     "output_type": "stream",
     "text": [
      "El objetos 2749117628496 tiene el atributo nombre como Isaac\n",
      "El objetos 2749115541264 tiene el atributo nombre como David\n",
      "El objetos 2749115540624 tiene el atributo nombre como Maria\n"
     ]
    }
   ],
   "source": [
    "class Persona:\n",
    "    def __init__(self):\n",
    "        self.nombre = input('Ingrese su nombre Porfavor: ')\n",
    "        self.edad = int(input('Ingrese su edad: '))\n",
    "\n",
    "\n",
    "estudiante = Persona()\n",
    "estudiante2 = Persona()\n",
    "profesor = Persona()\n",
    "\n",
    "\n",
    "print (f'El objetos {id(estudiante)} tiene el atributo nombre como {estudiante.nombre}')\n",
    "print (f'El objetos {id(estudiante2)} tiene el atributo nombre como {estudiante2.nombre}')\n",
    "print (f'El objetos {id(profesor)} tiene el atributo nombre como {profesor.nombre}')"
   ]
  },
  {
   "cell_type": "code",
   "execution_count": 3,
   "metadata": {},
   "outputs": [
    {
     "name": "stdout",
     "output_type": "stream",
     "text": [
      "El objetos 2749115891200 tiene el atributo nombre como Emmanuel Alfaro\n",
      "El objetos 2749115539984 tiene el atributo nombre como Mariana Villalobos\n",
      "El objetos 2749115541264 tiene el atributo nombre como Andrés Mena\n",
      "Hola, mi nombre es Emmanuel Alfaro y tengo 28 años\n",
      "Matematicas Historia Biologia\n",
      "\n",
      "Este objeto Andrés Mena no puede saludar, porque esta declarado como Inactivo\n"
     ]
    }
   ],
   "source": [
    "#Como crear una clase\n",
    "class Persona:\n",
    "    def __init__(self,nombre,age):\n",
    "        self.nombre = nombre\n",
    "        self.edad = age\n",
    "        self.activo = True\n",
    "        self.materias = []\n",
    "\n",
    "\n",
    "    def saludar(self): #Método\n",
    "        if self.activo:\n",
    "         print(f'Hola, mi nombre es {self.nombre} y tengo {self.edad} años')\n",
    "        else:\n",
    "            print(f'Este objeto {self.nombre} no puede saludar, porque esta declarado como Inactivo')\n",
    "    def imprimir_materias(self):\n",
    "        print(*self.materias) \n",
    "\n",
    "estudiante = Persona('Emmanuel Alfaro',28)\n",
    "estudiante2 = Persona('Mariana Villalobos', 25)\n",
    "profesor = Persona('Andrés Mena',33)\n",
    "\n",
    "\n",
    "\n",
    "\n",
    "print (f'El objetos {id(estudiante)} tiene el atributo nombre como {estudiante.nombre}')\n",
    "print (f'El objetos {id(estudiante2)} tiene el atributo nombre como {estudiante2.nombre}')\n",
    "print (f'El objetos {id(profesor)} tiene el atributo nombre como {profesor.nombre}')\n",
    "\n",
    "\n",
    "#Llamada a un método de la clase\n",
    "estudiante.saludar()\n",
    "estudiante.materias = ['Matematicas','Historia','Biologia']\n",
    "estudiante.imprimir_materias()\n",
    "\n",
    "\n",
    "\n",
    "profesor.activo = False\n",
    "profesor.imprimir_materias()\n",
    "profesor.saludar()"
   ]
  },
  {
   "cell_type": "code",
   "execution_count": null,
   "metadata": {},
   "outputs": [],
   "source": [
    "class Persona:\n",
    "    def __init__(self):\n",
    "        self.nombre = input('Ingrese su nombre Porfavor: ')\n",
    "        self.edad = int(input('Ingrese su edad: '))\n",
    "\n",
    "estudiante = Persona()\n",
    "estudiante2 = Persona()\n",
    "profesor = Persona()\n",
    "\n",
    "print (f'El objetos {id(estudiante)} tiene el atributo nombre como {estudiante.nombre}')\n",
    "print (f'El objetos {id(estudiante2)} tiene el atributo nombre como {estudiante2.nombre}')\n",
    "print (f'El objetos {id(profesor)} tiene el atributo nombre como {profesor.nombre}')"
   ]
  },
  {
   "cell_type": "markdown",
   "metadata": {},
   "source": [
    "# 📌 Atributos y Métodos\n",
    "Los atributos representan las propiedades de un objeto, y los métodos son las funciones que definen su comportamiento."
   ]
  },
  {
   "cell_type": "code",
   "execution_count": null,
   "metadata": {},
   "outputs": [],
   "source": [
    "#Crear una clase\n",
    "class carro:\n",
    "    def __init__(self,num_matricula,modelo,marca):\n",
    "        self.matricula = num_matricula\n",
    "        self.modelo = modelo\n",
    "        self.marca = marca\n",
    "        self.ecendido = True #Estáticos\n",
    "        self.fallas = []\n",
    "        \n",
    "    def reporte_fallas(self):\n",
    "        self.fallas.append(input(\"Ingrese el detalla del reporte de la falla: \"))\n",
    "        \n",
    "    def reporte_estado(self):\n",
    "        print(f'\\nEl carro matricúla {self.matricula}, marca {self.marca}')\n",
    "        print('---- REPORTE DE FALLAS----')\n",
    "        for elemento in self.fallas:\n",
    "            print(elemento)\n",
    "    \n",
    "mi_carro = carro('123ASD',2017,'Mitsubichi Lancer')\n",
    "mi_carro_trabajo = carro('QWERTY',2025,'Toyota Hilux')\n",
    "\n",
    "mi_carro.reporte_fallas()\n",
    "mi_carro.reporte_estado()\n",
    "\n",
    "mi_cochera = [mi_carro,mi_carro_trabajo] \n",
    "\n",
    "mi_carro_trabajo.reporte_estado()\n",
    "#print(mi_carro.marca)\n",
    "#print(mi_carro_trabajo.marca)"
   ]
  },
  {
   "cell_type": "markdown",
   "metadata": {},
   "source": [
    "# 📝 Ejercicios POO en Python \n",
    "\n",
    "\n",
    "## 📌 Ejercicio 1: Calculadora de Descuento \n",
    "📍 **Objetivo:** Crear una clase que calcule el precio final de un producto aplicando un descuento. \n",
    "\n",
    "\n",
    "### 🔹 **Instrucciones:** \n",
    "1. Crear una clase llamada `Producto` con los siguientes atributos: \n",
    "- `nombre` (nombre del producto) \n",
    "- `precio` (precio original del producto) \n",
    "- `descuento` (porcentaje de descuento en decimal, por ejemplo, 0.2 para 20%) \n",
    "2. Implementar un método llamado `precio_final()` que retorne el precio con el descuento aplicado. \n",
    "3. Crear un objeto de la clase con un producto de tu elección y mostrar el precio final. \n",
    "\n",
    "\n",
    "### 🔹 **Ejemplo de uso esperado:** \n",
    "```python\n",
    "mi_producto = Producto(\"Zapatos\", 50.0, 0.15) \n",
    "print(f\"El precio final de {mi_producto.nombre} es: ${mi_producto.precio_final()}\")\n",
    "\n"
   ]
  },
  {
   "cell_type": "code",
   "execution_count": 21,
   "metadata": {},
   "outputs": [],
   "source": [
    "class producto:\n",
    "    def __init__(self,nombre,precio,descuento):\n",
    "        self.nombre = nombre\n",
    "        self.precio = precio\n",
    "        self.descuento = descuento\n",
    "\n",
    "    def precio_final(self):\n",
    "        print(f'El precio final de {mi_producto.nombre} es: ({mi_producto.precio} * {self.descuento}) + {self.precio}')\n",
    "        \n",
    "        mi_producto = producto('Harina',  1500.0, 0.2)\n",
    "        \n",
    "        mi_producto.precio_final()\n",
    "    "
   ]
  },
  {
   "cell_type": "code",
   "execution_count": 22,
   "metadata": {},
   "outputs": [
    {
     "name": "stdout",
     "output_type": "stream",
     "text": [
      "El precio final de Zapatos es: $42.5\n"
     ]
    }
   ],
   "source": [
    "class Producto:\n",
    "    def __init__(self, nombre, precio, descuento):\n",
    "        \"\"\"Constructor de la clase Producto\"\"\"\n",
    "        self.nombre = nombre\n",
    "        self.precio = precio\n",
    "        self.descuento = descuento  # El descuento se representa como un decimal (ej. 0.2 para 20%)\n",
    "\n",
    "    def precio_final(self):\n",
    "        \"\"\"Método para calcular el precio final con el descuento aplicado\"\"\"\n",
    "        precio_descuento = self.precio * (1 - self.descuento)\n",
    "        return round(precio_descuento, 2)  # Redondeamos el resultado a 2 decimales\n",
    "\n",
    "# Crear un objeto de la clase Producto\n",
    "mi_producto = Producto(\"Zapatos\", 50.0, 0.15)\n",
    "mi_camisa = Producto('Camiseta de lana', 10,0.1)\n",
    "\n",
    "# Mostrar el precio final con el descuento aplicado\n",
    "print(f\"El precio final de {mi_producto.nombre} es: ${mi_producto.precio_final()}\")"
   ]
  },
  {
   "cell_type": "markdown",
   "metadata": {},
   "source": [
    "\n",
    "## 📌 Ejercicio 2: Registro de Estudiantes \n",
    "📍 **Objetivo:** Crear una clase para almacenar información de estudiantes y mostrar sus datos. \n",
    "\n",
    "\n",
    "### 🔹 Instrucciones: \n",
    "\n",
    "\n",
    "1. Crear una clase llamada `Estudiante` con los siguientes atributos: \n",
    "- `nombre` \n",
    "- `edad` \n",
    "- `grado` \n",
    "\n",
    "\n",
    "2. Implementar un método llamado `mostrar_info()` que imprima la información del estudiante en un formato legible. \n",
    "\n",
    "\n",
    "3. Crear **dos instancias** de la clase `Estudiante` y llamar al método `mostrar_info()` en cada una. "
   ]
  },
  {
   "cell_type": "code",
   "execution_count": 18,
   "metadata": {},
   "outputs": [
    {
     "name": "stdout",
     "output_type": "stream",
     "text": [
      "Nombre: Carlos, Edad: 14, Grado: 8vo grado\n",
      "Nombre: Ana, Edad: 15, Grado: 9no grado\n"
     ]
    }
   ],
   "source": [
    "class Estudiante:\n",
    "    def __init__(self, nombre, edad, grado):\n",
    "        \"\"\"Constructor de la clase Estudiante\"\"\"\n",
    "        self.nombre = nombre\n",
    "        self.edad = edad\n",
    "        self.grado = grado\n",
    "\n",
    "    def mostrar_info(self):\n",
    "        \"\"\"Método para mostrar la información del estudiante\"\"\"\n",
    "        print(f\"Nombre: {self.nombre}, Edad: {self.edad}, Grado: {self.grado}\")\n",
    "\n",
    "\n",
    "\n",
    "# Crear instancias de la clase Estudiante\n",
    "estudiante1 = Estudiante(\"Carlos\", 14, \"8vo grado\")\n",
    "estudiante2 = Estudiante(\"Ana\", 15, \"9no grado\")\n",
    "\n",
    "# Mostrar información de cada estudiante\n",
    "estudiante1.mostrar_info()\n",
    "estudiante2.mostrar_info()"
   ]
  },
  {
   "cell_type": "markdown",
   "metadata": {},
   "source": [
    "### 📌 Encapsulamiento\n",
    "El encapsulamiento oculta detalles internos de un objeto para restringir el acceso a sus atributos.\n",
    "\n",
    "\n",
    "\n",
    "🔒 __saldo es un atributo privado, solo accesible desde métodos de la misma clase."
   ]
  },
  {
   "cell_type": "code",
   "execution_count": 17,
   "metadata": {},
   "outputs": [
    {
     "name": "stdout",
     "output_type": "stream",
     "text": [
      "El saldo de Andrés en la cuenta es: $550\n"
     ]
    }
   ],
   "source": [
    "class CuentaBancaria:\n",
    "    def __init__(self, titular, saldo):\n",
    "        self.titular = titular\n",
    "        self.__saldo = saldo  # Atributo privado\n",
    "    \n",
    "    def mostrar_saldo(self):\n",
    "        print(f'El saldo de {self.titular} en la cuenta es: ${cuenta_ahorros.__saldo}')\n",
    "    \n",
    "    def depositar(self, cantidad):\n",
    "        self.__saldo += cantidad\n",
    "\n",
    "cuenta_ahorros = CuentaBancaria('Kevin', 450)\n",
    "\n",
    "\n",
    "cuenta_ahorros.titular = 'Andrés' #Modificar atributo público\n",
    "cuenta_ahorros.depositar(100)\n",
    "\n",
    "\n",
    "cuenta_ahorros.mostrar_saldo()"
   ]
  },
  {
   "cell_type": "markdown",
   "metadata": {},
   "source": [
    "### 📌 Herencia\n",
    "La herencia permite que una clase hija herede atributos y métodos de una clase padre."
   ]
  },
  {
   "cell_type": "code",
   "execution_count": 13,
   "metadata": {},
   "outputs": [
    {
     "name": "stdout",
     "output_type": "stream",
     "text": [
      "Guau guau\n"
     ]
    }
   ],
   "source": [
    "class Animal:\n",
    "    def __init__(self, nombre,especie='Mamifero'):\n",
    "        self.nombre = nombre\n",
    "        self.especie = especie\n",
    "\n",
    "    def hacer_sonido(self):\n",
    "        return f\" Hace un sonido\"\n",
    "    \n",
    "class perro(Animal): # Clase hija que Hereda de la clase animal\n",
    "    \n",
    "    def hacer_sonido(self):\n",
    "        return f\"Guau guau\"\n",
    "\n",
    "pancho = perro('Pancho','Mamifero')\n",
    "\n",
    "print(pancho.hacer_sonido())"
   ]
  },
  {
   "cell_type": "markdown",
   "metadata": {},
   "source": [
    "# 📌 Polimorfismo\n",
    "El polimorfismo permite usar un mismo método con diferentes implementaciones."
   ]
  },
  {
   "cell_type": "code",
   "execution_count": 14,
   "metadata": {},
   "outputs": [
    {
     "name": "stdout",
     "output_type": "stream",
     "text": [
      "Firulais : Guau guau\n",
      "Michi : Miau miau\n",
      "desconocido :  Hace un sonido\n"
     ]
    }
   ],
   "source": [
    "class gato(Animal):\n",
    "    def hacer_sonido(self):\n",
    "        return f\"Miau miau\"\n",
    "    \n",
    "animales = [perro('Firulais'),gato('Michi'),Animal('desconocido')]\n",
    "\n",
    "for animal in animales:\n",
    "    print(animal.nombre, \":\",animal.hacer_sonido())"
   ]
  }
 ],
 "metadata": {
  "kernelspec": {
   "display_name": "Python 3",
   "language": "python",
   "name": "python3"
  },
  "language_info": {
   "codemirror_mode": {
    "name": "ipython",
    "version": 3
   },
   "file_extension": ".py",
   "mimetype": "text/x-python",
   "name": "python",
   "nbconvert_exporter": "python",
   "pygments_lexer": "ipython3",
   "version": "3.13.1"
  }
 },
 "nbformat": 4,
 "nbformat_minor": 2
}
