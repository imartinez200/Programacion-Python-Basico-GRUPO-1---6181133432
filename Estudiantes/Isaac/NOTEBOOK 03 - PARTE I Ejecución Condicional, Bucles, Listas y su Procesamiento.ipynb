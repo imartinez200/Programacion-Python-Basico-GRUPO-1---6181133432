{
    "cells": [
        {
            "attachments": {},
            "cell_type": "markdown",
            "metadata": {
                "azdata_cell_guid": "5a9661f6-9c22-438b-8530-debb92fea2ff"
            },
            "source": [
                "# NOTEBOOK 03 - PARTE I Ejecución Condicional, Bucles, Listas y su Procesamiento\n",
                "\n",
                "## Programacion Python Basico | ICAI\n",
                "\n",
                "## Profesor: Ing. Andrés Mena Abarca\n",
                "\n",
                "### <mark>**Nombre del estudiante: Isaac Martinez Serrano**</mark>\n",
                "\n",
                "* * *\n",
                "\n",
                "## **1\\. Valores Booleanos**\n",
                "\n",
                "### 1.1. **Teoría**\n",
                "\n",
                "En Python, los valores booleanos son un tipo de dato que solo pueden tener dos valores: `True` (verdadero) y `False` (falso). Estos valores son fundamentales para el control de flujo en los programas, permitiendo que se tomen decisiones basadas en condiciones.\n",
                "\n",
                "- `True` y `False` son palabras clave en Python.\n",
                "- Se usan principalmente en expresiones condicionales y bucles.\n",
                "\n",
                "#### **Operadores de comparación**: Estos operadores devuelven un valor booleano como resultado de comparar dos valores.\n",
                "\n",
                "- `==` (igual a)\n",
                "- `!=` (diferente de)\n",
                "- `<`, `>`, `<=`, `>=` (menor, mayor, menor o igual, mayor o igual)\n",
                "\n",
                "### 1.2. **Ejemplo de Código**"
            ]
        },
        {
            "cell_type": "code",
            "execution_count": null,
            "metadata": {
                "azdata_cell_guid": "65553934-e4e4-4b44-aa2e-b234d1a33667",
                "language": "python"
            },
            "outputs": [],
            "source": [
                "# Ejemplo de valores booleanos\n",
                "x = 10\n",
                "y = 20\n",
                "\n",
                "# Operación de comparación\n",
                "es_mayor = x > y  # False porque 10 no es mayor que 20\n",
                "es_igual = x == y  # False porque 10 no es igual a 20\n",
                "\n",
                "print(f\"¿Es {x} mayor que {y}? {es_mayor}\")\n",
                "print(f\"¿Es {x} igual a {y}? {es_igual}\")\n"
            ]
        },
        {
            "attachments": {},
            "cell_type": "markdown",
            "metadata": {
                "azdata_cell_guid": "e75d82f8-c903-459c-b6b4-3cdc9d23ac5c"
            },
            "source": [
                "### <mark>1.3. **Ejercicio Práctico**</mark>\n",
                "\n",
                "**Caso de Aplicación: Evaluación de Edades para una Competencia Deportiva**\n",
                "\n",
                "Imagina que estás organizando una competencia deportiva y necesitas verificar si un participante es elegible para competir en una categoría específica de edad. En esta categoría, los participantes deben tener entre **18 y 30 años** (inclusive). También se deben evaluar dos edades de los participantes, para ver quién es mayor o si tienen la misma edad.\n",
                "\n",
                "El ejercicio requerirá:\n",
                "\n",
                "- Evaluar si un participante es elegible para competir según su edad.\n",
                "- Comparar las edades de dos participantes para determinar quién es mayor.\n",
                "\n",
                "**Proceso**\n",
                "\n",
                "1. **Solicita** <span style=\"color: var(--vscode-foreground);\"> al usuario que ingrese la edad de dos participantes (edad1 y edad2).</span>\n",
                "2. **Verifica** <span style=\"color: var(--vscode-foreground);\"> si cada uno de ellos es elegible para la competencia (la edad debe estar entre 18 y 30 años inclusive).</span>\n",
                "\n",
                "3. **Compara** las edades de los dos participantes:\n",
                "        - ¿Quién es mayor?\n",
                "        - ¿Son de la misma edad?\n",
                "4. **Imprime** resultados detallados de las evaluaciones."
            ]
        },
        {
            "cell_type": "code",
            "execution_count": 2,
            "metadata": {
                "azdata_cell_guid": "26417c6c-aa5d-41a9-b7c7-fa268a476a6d",
                "language": "python"
            },
            "outputs": [
                {
                    "name": "stdout",
                    "output_type": "stream",
                    "text": [
                        "False\n",
                        "El participante numero 1 ingresa False\n",
                        "Elegible estudiante 1:  False\n",
                        "Elegible estudiante 2:  True\n",
                        "El participante 1 es menor a participante 2\n"
                    ]
                }
            ],
            "source": [
                "#Respuesta\n",
                "edad1 = int(input(\"Ingrese la edad del primer participante: \"))\n",
                "edad2 = int(input(\"Ingrese la edad del segundo participante: \"))\n",
                "\n",
                "\n",
                "participante1 = (edad1 >= 18 and edad1 <= 30)\n",
                "\n",
                "\n",
                "print((edad1 >= 18 and edad1 <= 30))\n",
                "print('El participante numero 1 ingresa', participante1)\n",
                "\n",
                "\n",
                "\n",
                "edad1 = int(input(\"PArticipante 1, escriba su edad por favor\"))\n",
                "edad2 = int(input(\"PArticipante 2, escriba su edad por favor\"))\n",
                "\n",
                "print(\"Elegible estudiante 1: \", edad1 >= 18 and edad1 <= 30)\n",
                "print(\"Elegible estudiante 2: \", edad2 >= 18 and edad1 <= 30)\n",
                "\n",
                "if edad1 > edad2:\n",
                "    print(\"El participante 1 es mayor a participante 2\")\n",
                "elif edad1 < edad2:\n",
                "    print(\"El participante 1 es menor a participante 2\")\n",
                "else:\n",
                "    print(\"Los participantes tienen la misma edad\")\n"
            ]
        },
        {
            "attachments": {},
            "cell_type": "markdown",
            "metadata": {
                "azdata_cell_guid": "7d08ceac-43f5-4144-9a55-2524859d645c"
            },
            "source": [
                "## **2\\. Ejecución Condicional**\n",
                "\n",
                "### 2.1. **Teoría**\n",
                "\n",
                "La ejecución condicional permite que el programa tome decisiones y ejecute diferentes bloques de código basados en ciertas condiciones. En Python, las estructuras condicionales más comunes son `if`, `elif` (else if) y `else`.\n",
                "\n",
                "### **Estructura básica:**\n",
                "\n",
                "```Python\n",
                "if condición:\n",
                "    # Código si la condición es True\n",
                "elif otra_condición:\n",
                "    # Código si otra_condición es True\n",
                "else:\n",
                "    # Código si ninguna condición es True \n",
                "\n",
                "```\n",
                "\n",
                "### 2.2. **Ejemplo de Código: Clasificación de Calificaciones**\n",
                "\n",
                "#### **Contexto:**\n",
                "\n",
                "Imagina que estás desarrollando un sistema para clasificar las calificaciones de un grupo de estudiantes. El sistema debe recibir una calificación y asignar una letra basada en la siguiente escala:\n",
                "\n",
                "- Si la calificación es mayor o igual a 90, el estudiante obtiene una **A**.\n",
                "- Si la calificación está entre 80 y 89, el estudiante obtiene una **B**.\n",
                "- Si la calificación está entre 70 y 79, el estudiante obtiene una **C**.\n",
                "- Si la calificación está entre 60 y 69, el estudiante obtiene una **D**.\n",
                "- Si la calificación es menor que 60, el estudiante obtiene una **F**.\n",
                "\n",
                "### **Estructura Condicional**\n",
                "\n",
                "Usaremos una serie de sentencias `if`, `elif` y `else` para implementar esta lógica."
            ]
        },
        {
            "cell_type": "code",
            "execution_count": 4,
            "metadata": {
                "azdata_cell_guid": "ac546c59-6cc2-47f1-8b71-daeb61c6475c",
                "language": "python"
            },
            "outputs": [
                {
                    "name": "stdout",
                    "output_type": "stream",
                    "text": [
                        "La calificacion : 45.0 corresponde 'F'. Deficiente!\n"
                    ]
                }
            ],
            "source": [
                "#Respuesta\n",
                "# Ejemplo mejorado: Clasificación de calificaciones de un estudiante\n",
                "\n",
                "\n",
                "try:\n",
                "    calificacion = float(input('Ingrese la calificacion del estudiante (0 a 100): '))\n",
                "\n",
                "    if calificacion >= 90:\n",
                "        print(f\"La calificacion : {calificacion} corresponde 'A'. Exclente Trabajo!\")\n",
                "    elif calificacion >= 80:\n",
                "        print(f\"La calificacion : {calificacion} corresponde 'B'. Buen Trabajo!\")\n",
                "    elif calificacion >= 70:\n",
                "        print(f\"La calificacion : {calificacion} corresponde 'C'. Puedes mejorar!\")\n",
                "    elif calificacion >= 60:\n",
                "        print(f\"La calificacion : {calificacion} corresponde 'D'. Debes esforzarte\")\n",
                "    else:\n",
                "        print(f\"La calificacion : {calificacion} corresponde 'F'. Deficiente!\")\n",
                "    \n",
                "except ValueError:\n",
                "    print('Error: por favor ingrese un valor valido')\n",
                "        "
            ]
        },
        {
            "attachments": {},
            "cell_type": "markdown",
            "metadata": {
                "azdata_cell_guid": "90552ad9-627b-42bd-84b0-f87e15cfe087"
            },
            "source": [
                "### <mark>2.3. **Ejercicio Práctico**</mark>\n",
                "\n",
                "### Escribe un programa que pida al usuario ingresar su edad. Luego, el programa debe imprimir si es mayor o menor de edad (asumiendo 18 años como el límite).\n",
                "\n",
                "- El programa pide al usuario ingresar su edad.\n",
                "- Si el usuario ingresa un valor no válido (por ejemplo, texto o números negativos), le solicita nuevamente que ingrese un número válido.\n",
                "- Dependiendo de la edad ingresada, el programa:\n",
                "    - Imprime si es \"menor de edad\" (menor de 18).\n",
                "    - Imprime si es \"mayor de edad\" (18 años o más).\n",
                "    - Opcionalmente, imprime un mensaje especial para niños menores de 13 años o personas mayores de 65 años.\n",
                "- Permite que el usuario repita el proceso tantas veces como desee. \\*\\*\\*OPCIONAL"
            ]
        },
        {
            "cell_type": "code",
            "execution_count": 24,
            "metadata": {
                "azdata_cell_guid": "90b5ee62-7483-4012-88a1-415f1716cb3e",
                "language": "python"
            },
            "outputs": [
                {
                    "name": "stdout",
                    "output_type": "stream",
                    "text": [
                        "*** Ingrese un valor valido ***\n"
                    ]
                }
            ],
            "source": [
                "# Declaración de variables\n",
                "try:\n",
                "    edad = int(input('Ingrese la edad: '))\n",
                "\n",
                "    # Ejercicio para verificar si una persona es mayor o menor de edad\n",
                "    if edad >= 18 and edad <= 65:\n",
                "        print(f'Su edad es {edad}, eres mayor de edad')\n",
                "    elif edad < 18 and edad >= 13:\n",
                "        print(f'Su edad es {edad}, eres menor de edad')\n",
                "    elif edad < 13:\n",
                "        print(f'Su edad es {edad}, estas en etapa de niñez')\n",
                "    else:\n",
                "        print(f'Su edad es {edad}, eres adulto mayor')\n",
                "except ValueError:\n",
                "    print('*** Ingrese un valor valido ***')"
            ]
        },
        {
            "attachments": {},
            "cell_type": "markdown",
            "metadata": {
                "azdata_cell_guid": "7a387c19-3988-4cdd-a37b-33becdadbb46"
            },
            "source": [
                "## **3\\. Bucles**\n",
                "\n",
                "### 3.1. **Teoría**\n",
                "\n",
                "Los bucles permiten repetir un bloque de código varias veces. Python tiene dos tipos principales de bucles: `for` y `while`.\n",
                "\n",
                "- **Bucle `for`:** Se utiliza para iterar sobre una secuencia (listas, tuplas, cadenas, etc.).\n",
                "- **Bucle `while`:** Repite un bloque de código mientras una condición sea `True`.\n",
                "\n",
                "### 3.2. **Ejemplo de Código**\n",
                "\n",
                "### \n",
                "\n",
                "- **Bucle `for`:**"
            ]
        },
        {
            "cell_type": "code",
            "execution_count": 1,
            "metadata": {
                "azdata_cell_guid": "12496b36-600f-4f59-8607-58eafbbac4e5",
                "language": "python"
            },
            "outputs": [
                {
                    "name": "stdout",
                    "output_type": "stream",
                    "text": [
                        "Iteracion 0\n",
                        "Iteracion 1\n",
                        "Iteracion 2\n",
                        "Iteracion 3\n",
                        "Iteracion 4\n",
                        "Iteracion 5\n",
                        "Iteracion 6\n",
                        "Iteracion 7\n",
                        "Iteracion 8\n",
                        "Iteracion 9\n"
                    ]
                }
            ],
            "source": [
                "# Ejemplo de bucle for\n",
                "\n",
                "for i in range(10):\n",
                "    print(f'Iteracion {i}')"
            ]
        },
        {
            "attachments": {},
            "cell_type": "markdown",
            "metadata": {
                "azdata_cell_guid": "c24a4bae-ea4c-485d-8067-d5e07afb3435",
                "language": "python"
            },
            "source": [
                "### **Caso: Suma de numeros del 1 a la cantidad que defina el usuario.**\n",
                "\n",
                "Vamos a suponer que queremos calcular la suma de los números del 1 a la catidad que deficna el suario. Este caso es útil para entender cómo funciona el bucle `for`, ya que iteramos sobre una secuencia de números y realizamos una operación en cada iteración."
            ]
        },
        {
            "cell_type": "code",
            "execution_count": 4,
            "metadata": {
                "azdata_cell_guid": "49c58740-3080-45a0-b119-c5b144581977",
                "language": "python"
            },
            "outputs": [
                {
                    "name": "stdout",
                    "output_type": "stream",
                    "text": [
                        "True\n",
                        "La suma total es: 45\n"
                    ]
                }
            ],
            "source": [
                "#Respuesta\n",
                "suma = 0\n",
                "\n",
                "if 5 in range(1, 6):\n",
                "   print(True)\n",
                "\n",
                "for numero in range(1,10):\n",
                "   # suma = suma + numero\n",
                "   suma += numero\n",
                "print(f'La suma total es: {suma}')"
            ]
        },
        {
            "attachments": {},
            "cell_type": "markdown",
            "metadata": {
                "azdata_cell_guid": "c0bcf79f-f9af-4761-81f7-ada74af0a7ec"
            },
            "source": [
                "### \n",
                "\n",
                "- **Bucle** `while`:"
            ]
        },
        {
            "cell_type": "code",
            "execution_count": 4,
            "metadata": {
                "azdata_cell_guid": "a3aaa670-2151-4756-9264-85312d17674a",
                "language": "python",
                "tags": []
            },
            "outputs": [
                {
                    "name": "stdout",
                    "output_type": "stream",
                    "text": [
                        "Iteracion : 0\n",
                        "Iteracion : 1\n",
                        "Iteracion : 2\n",
                        "Iteracion : 3\n",
                        "Iteracion : 4\n",
                        "Iteracion : 5\n",
                        "Iteracion : 6\n",
                        "Iteracion : 7\n",
                        "Iteracion : 8\n",
                        "Iteracion : 9\n",
                        "Iteracion : 10\n"
                    ]
                }
            ],
            "source": [
                "# Ejemplo de bucle while\n",
                "contador = 1\n",
                "suma = 0\n",
                "final_suma = int(input('Ingrese el numero final: '))\n",
                "while contador <= final_suma:\n",
                "    #print(f'Iteracion : {contador}')\n",
                "    contador += 1    #contador = contador + 1\n",
                "print(f'Suma total: {suma}')"
            ]
        },
        {
            "attachments": {},
            "cell_type": "markdown",
            "metadata": {
                "azdata_cell_guid": "2d7802f8-ded4-4357-8ac4-69fd427f1a51",
                "language": "python"
            },
            "source": [
                "### **Caso: Cálculo de Total de Compras**\n",
                "\n",
                "#### <span style=\"color: var(--vscode-foreground); font-weight: normal;\">Imagina que estás desarrollando un pequeño programa para una tienda. Los clientes ingresan el precio de varios productos que están comprando, uno por uno. El programa debe seguir pidiendo el precio de cada producto hasta que el usuario indique que no va a ingresar más productos, y al final, debe calcular y mostrar el total a pagar.</span>"
            ]
        },
        {
            "cell_type": "code",
            "execution_count": null,
            "metadata": {
                "azdata_cell_guid": "fd2a5e98-6e47-475a-9006-7510558a271c",
                "language": "python",
                "tags": []
            },
            "outputs": [
                {
                    "name": "stdout",
                    "output_type": "stream",
                    "text": [
                        "El total a pagar es: 180.0\n"
                    ]
                }
            ],
            "source": [
                "#Respuesta\n",
                "total = 0\n",
                "\n",
                "while True:\n",
                "    precio = float(input(\"Ingrese el precio del producto o '0' para salir\"))\n",
                "    \n",
                "    if precio == 0:\n",
                "        break\n",
                "    \n",
                "    total += precio\n",
                "    \n",
                "print(f'El total a pagar es: {total}')"
            ]
        },
        {
            "attachments": {},
            "cell_type": "markdown",
            "metadata": {
                "azdata_cell_guid": "10864839-331a-4069-8cb9-58123740ec63"
            },
            "source": [
                "### <mark>3.3. **Ejercicio Práctico -** Tabla de Multiplicar</mark>\n",
                "\n",
                "**Descripción:** Crea un programa que pida al usuario un número entero `n` y muestre la tabla de multiplicar de ese número del 1 al 10. Utiliza un ciclo `while` para generar la tabla.\n",
                "\n",
                "**Instrucciones:**\n",
                "\n",
                "1. Solicita al usuario que ingrese un número entero.\n",
                "2. Inicializa una variable `i` en 1.\n",
                "3. Utiliza un ciclo `while` para que mientras `i` sea menor o igual a 10:\n",
                "    - Multiplica `n` por `i` y muestra el resultado en el formato \"n x i = resultado\".\n",
                "    - Incrementa `i` en 1.\n",
                "4. Al final, muestra la tabla completa.\n",
                "\n",
                "**Ejemplo de salida:**\n",
                "\n",
                "```\n",
                "\n",
                "Ingrese un número entero: 3\n",
                "Tabla de multiplicar de 3:\n",
                "\n",
                "3 x 1 = 3\n",
                "3 x 2 = 6\n",
                "3 x 3 = 9\n",
                "3 x 4 = 12\n",
                "3 x 5 = 15\n",
                "3 x 6 = 18\n",
                "3 x 7 = 21\n",
                "3 x 8 = 24\n",
                "3 x 9 = 27\n",
                "3 x 10 = 30\n",
                "\n",
                "```"
            ]
        },
        {
            "cell_type": "code",
            "execution_count": null,
            "metadata": {
                "azdata_cell_guid": "0ac67dcf-9e16-4022-94c3-fd2af98a43fd",
                "language": "python"
            },
            "outputs": [
                {
                    "name": "stdout",
                    "output_type": "stream",
                    "text": [
                        "Tabla de multiplicar: 3\n",
                        "3 x 1 = 3\n",
                        "3 x 2 = 6\n",
                        "3 x 3 = 9\n",
                        "3 x 4 = 12\n",
                        "3 x 5 = 15\n",
                        "3 x 6 = 18\n",
                        "3 x 7 = 21\n",
                        "3 x 8 = 24\n",
                        "3 x 9 = 27\n",
                        "3 x 10 = 30\n"
                    ]
                }
            ],
            "source": [
                "#Respuesta\n",
                "contador = 1\n",
                "producto = 0\n",
                "\n",
                "n = int(input('Ingrese un numero entero: '))\n",
                "print(F'Tabla de multiplicar: {n}')\n",
                "while contador <= 10:\n",
                "    producto = n * contador\n",
                "    \n",
                "    print(f'{n} x {contador} = {producto}')   \n",
                "    contador += 1\n"
            ]
        },
        {
            "attachments": {},
            "cell_type": "markdown",
            "metadata": {
                "azdata_cell_guid": "57643192-1d41-4b05-9716-bb07f2c061fe",
                "language": "python"
            },
            "source": [
                "#### <mark>3.3. Ejercicio Práctico</mark>\n",
                "\n",
                "Escribe un programa que imprima los números del 1 al 10 usando un bucle for. Luego, realiza el mismo ejercicio con un bucle while."
            ]
        },
        {
            "cell_type": "code",
            "execution_count": 31,
            "metadata": {
                "azdata_cell_guid": "f3753d98-fffa-464b-aa95-e6129cc6c3b6",
                "language": "python"
            },
            "outputs": [
                {
                    "name": "stdout",
                    "output_type": "stream",
                    "text": [
                        "1\n",
                        "2\n",
                        "3\n",
                        "4\n",
                        "5\n",
                        "6\n",
                        "7\n",
                        "8\n",
                        "9\n",
                        "10\n",
                        "\n",
                        "-----------------\n",
                        "\n",
                        "1\n",
                        "2\n",
                        "3\n",
                        "4\n",
                        "5\n",
                        "6\n",
                        "7\n",
                        "8\n",
                        "9\n",
                        "10\n"
                    ]
                }
            ],
            "source": [
                "#Respuesta\n",
                "elemento = 1\n",
                "\n",
                "for i in range(1, 11):\n",
                "    print(i)\n",
                "    \n",
                "print('\\n-----------------\\n')    \n",
                "\n",
                "while elemento in range(11):\n",
                "    print(elemento)\n",
                "    elemento += 1"
            ]
        },
        {
            "attachments": {},
            "cell_type": "markdown",
            "metadata": {
                "azdata_cell_guid": "34bbf155-7b0d-4faf-afd8-162d9192da2b",
                "language": "python"
            },
            "source": [
                "**Caso 2: Suma de Números**\n",
                "- **Presentación:** Supongamos que tienes una lista de números y quieres calcular la suma total. ¿Cómo podrías hacer esto en Python?    \n",
                "- **Salida Esperada:**    \n",
                "    - La suma total de los números en la lista.\n",
                "- **Preguntas adicionales:**    \n",
                "    - ¿Cómo podrías calcular el promedio de los números?\n",
                "    - ¿Y si quisieras encontrar el número más grande y el más pequeño?\n",
                "    - ¿Puedes modificar el código para que solo sume los números pares?"
            ]
        },
        {
            "attachments": {},
            "cell_type": "markdown",
            "metadata": {
                "azdata_cell_guid": "08d5eece-75c3-4e51-83b9-9388510c5dd5"
            },
            "source": [
                "## **4\\. Listas y su Procesamiento**\n",
                "\n",
                "### 4.1. **Teoría**\n",
                "\n",
                "Una lista es una estructura de datos en Python que almacena múltiples elementos en un solo objeto. Las listas son mutables, lo que significa que podemos modificar su contenido después de haberlas creado.\n",
                "\n",
                "### **Operaciones comunes con listas:**\n",
                "\n",
                "- **Añadir elementos:** `append()`, `insert()`\n",
                "- **Eliminar elementos:** `remove()`, `pop()`\n",
                "- **Acceso a elementos:** Índices\n",
                "- **Slicing:** Obtener sublistas\n",
                "\n",
                "### 4.2. **Ejemplo de Código**"
            ]
        },
        {
            "cell_type": "code",
            "execution_count": 33,
            "metadata": {
                "azdata_cell_guid": "4450cc96-4f36-4404-b39b-0aa88f4412e8",
                "language": "python"
            },
            "outputs": [
                {
                    "name": "stdout",
                    "output_type": "stream",
                    "text": [
                        "[1, 2, 3, 4, 5]\n",
                        "<class 'list'>\n"
                    ]
                }
            ],
            "source": [
                "# Ejemplo de procesamiento de listas\n",
                "lista = [1, 2,3,4,5]\n",
                "print(lista)\n",
                "print(type(lista))"
            ]
        },
        {
            "attachments": {},
            "cell_type": "markdown",
            "metadata": {
                "azdata_cell_guid": "f8af47ce-1967-48b9-befe-7c36b15ba133"
            },
            "source": [
                "### <mark>4.3. **Ejercicio Práctico**</mark>\n",
                "\n",
                "Imagina que quieres crear una lista de tus amigos. ¿Cómo podrías almacenar estos nombres en Python? Una vez que tengas la lista, ¿cómo podrías agregar un nuevo amigo? ¿Y cómo podrías saludar a cada uno de ellos?\n",
                "\n",
                "```\n",
                "amigos = [\"Ana\", \"Juan\", \"María\", \"Pedro\"\\] \\# ... (resto del código)\n",
                "\n",
                "```\n",
                "\n",
                "**Salida Esperada:**\n",
                "\n",
                "```\n",
                "- Una lista impresa con todos los nombres de los amigos.\n",
                "- El nombre del tercer amigo.\n",
                "- Un saludo personalizado para cada amigo.\n",
                "\n",
                "```\n",
                "\n",
                "**Preguntas adicionales:**\n",
                "\n",
                "```\n",
                "- ¿Cómo podrías eliminar a un amigo de la lista?\n",
                "- ¿Qué pasa si quieres cambiar el nombre de un amigo?\n",
                "- ¿Puedes ordenar la lista alfabéticamente?\n",
                "\n",
                "```"
            ]
        },
        {
            "cell_type": "code",
            "execution_count": 42,
            "metadata": {
                "azdata_cell_guid": "de9d885b-ca64-4e10-b8c6-8afd4c69239c",
                "language": "python"
            },
            "outputs": [
                {
                    "name": "stdout",
                    "output_type": "stream",
                    "text": [
                        "['Ana', 'Juan', 'Maria', 'Pedro']\n",
                        "\n",
                        " El tercer amigo es:  Maria\n",
                        "\n",
                        " Hola  Ana  como estas?\n",
                        "\n",
                        "\n",
                        " Gusto en saludarte  Juan \n",
                        "\n",
                        "\n",
                        " Bienvenida  Maria  que bueno que llegaaste\n",
                        "\n",
                        "\n",
                        " Pura vida  Pedro saludos\n",
                        "\n"
                    ]
                }
            ],
            "source": [
                "#Respuesta\n",
                "amigos = [\"Ana\",\"Juan\",\"Maria\",\"Pedro\"]\n",
                "print(amigos)\n",
                "\n",
                "print('\\n El tercer amigo es: ', amigos[2])\n",
                "\n",
                "print('\\n Hola ', amigos[0], ' como estas?\\n')\n",
                "print('\\n Gusto en saludarte ', amigos[1], '\\n')\n",
                "print('\\n Bienvenida ', amigos[2], ' que bueno que llegaaste\\n')\n",
                "print('\\n Pura vida ', amigos[3], 'saludos\\n')\n",
                "\n",
                "\n"
            ]
        },
        {
            "attachments": {},
            "cell_type": "markdown",
            "metadata": {
                "azdata_cell_guid": "2a24eed7-de3f-4200-86f6-3a3b138d9253"
            },
            "source": [
                "## **4\\. Listas y su Procesamiento**\n",
                "\n",
                "### 4.1. **Teoría**\n",
                "\n",
                "Una lista es una estructura de datos en Python que almacena múltiples elementos en un solo objeto. Las listas son mutables, lo que significa que podemos modificar su contenido después de haberlas creado.\n",
                "\n",
                "### **Operaciones comunes con listas:**\n",
                "\n",
                "- **Añadir elementos:** `append()`, `insert()`\n",
                "- **Eliminar elementos:** `remove()`, `pop()`\n",
                "- **Acceso a elementos:** Índices\n",
                "- **Slicing:** Obtener sublistas\n",
                "\n",
                "### 4.2. **Ejemplo de Código**"
            ]
        },
        {
            "cell_type": "code",
            "execution_count": null,
            "metadata": {
                "azdata_cell_guid": "11f0ac54-2638-45a6-8f22-5268289ac86d",
                "language": "python",
                "tags": []
            },
            "outputs": [],
            "source": [
                "# Ejemplo de procesamiento de listas\n",
                "#             0          1          2"
            ]
        },
        {
            "attachments": {},
            "cell_type": "markdown",
            "metadata": {
                "azdata_cell_guid": "fe863a2c-41ac-4322-a94d-6f2154b12c23",
                "language": "python"
            },
            "source": [
                "**append(elemento):**\n",
                "\n",
                "- Agrega un elemento al final de la lista."
            ]
        },
        {
            "cell_type": "code",
            "execution_count": 45,
            "metadata": {
                "azdata_cell_guid": "390d1287-7bdd-43f1-8338-e09b1ab5b9b7",
                "language": "python"
            },
            "outputs": [
                {
                    "name": "stdout",
                    "output_type": "stream",
                    "text": [
                        "[1, 2, 3, 4, 5]\n",
                        "[1, 2, 3, 4, 5, 7]\n"
                    ]
                }
            ],
            "source": [
                "mi_lista = [1,2,3,4,5]\n",
                "print(mi_lista)\n",
                "number = int(input('\\nAgrega un numero: '))\n",
                "mi_lista.append(number)\n",
                "print(mi_lista)"
            ]
        },
        {
            "attachments": {},
            "cell_type": "markdown",
            "metadata": {
                "azdata_cell_guid": "1feeb01b-5c04-4ba0-bef6-e682262c92ca",
                "language": "python"
            },
            "source": [
                "**insert(índice, elemento):**\n",
                "\n",
                "- Inserta un elemento en una posición específica de la lista.\n",
                "- El índice indica la posición antes de la cual se insertará el elemento."
            ]
        },
        {
            "cell_type": "code",
            "execution_count": 46,
            "metadata": {
                "azdata_cell_guid": "7ce0bb35-c66f-4d06-9a89-e0a2dca53266",
                "language": "python"
            },
            "outputs": [
                {
                    "name": "stdout",
                    "output_type": "stream",
                    "text": [
                        "[1, 2, 3, 4, 5]\n",
                        "[1, 2, 3, 8, 4, 5]\n"
                    ]
                }
            ],
            "source": [
                "mi_lista = [1,2,3,4,5]\n",
                "print(mi_lista)\n",
                "mi_lista.insert(3, 8)\n",
                "print(mi_lista)"
            ]
        },
        {
            "attachments": {},
            "cell_type": "markdown",
            "metadata": {
                "azdata_cell_guid": "26ac0ea0-af16-4b3e-aa56-9442cf11eeb2",
                "language": "python"
            },
            "source": [
                "**remove(elemento):**\n",
                "\n",
                "- Elimina la primera ocurrencia de un elemento específico de la lista.\n",
                "- Si el elemento no existe, se produce un error."
            ]
        },
        {
            "cell_type": "code",
            "execution_count": 47,
            "metadata": {
                "azdata_cell_guid": "17b9619a-2b82-48be-b955-f27112bb03cb",
                "language": "python"
            },
            "outputs": [
                {
                    "name": "stdout",
                    "output_type": "stream",
                    "text": [
                        "[1, 2, 3, 4, 5]\n",
                        "[1, 2, 3, 5]\n"
                    ]
                }
            ],
            "source": [
                "mi_lista = [1,2,3,4,5]\n",
                "print(mi_lista)\n",
                "mi_lista.remove(4)\n",
                "print(mi_lista)"
            ]
        },
        {
            "attachments": {},
            "cell_type": "markdown",
            "metadata": {
                "azdata_cell_guid": "aed96f34-e449-4d8c-b709-d2f5e5b4e4eb",
                "language": "python"
            },
            "source": [
                "**pop(índice):**\n",
                "\n",
                "- Elimina y devuelve el elemento en la posición indicada.\n",
                "- Si no se especifica un índice, elimina y devuelve el último elemento."
            ]
        },
        {
            "cell_type": "code",
            "execution_count": 57,
            "metadata": {
                "azdata_cell_guid": "a13c2808-612f-45b2-a935-1dc4333b8677",
                "language": "python"
            },
            "outputs": [
                {
                    "name": "stdout",
                    "output_type": "stream",
                    "text": [
                        "[1, 2, 3, 4, 5]\n",
                        "[1, 2, 4, 5]\n"
                    ]
                }
            ],
            "source": [
                "mi_lista = [1,2,3,4,5]\n",
                "print(mi_lista)\n",
                "mi_lista.pop(2)\n",
                "print(mi_lista)"
            ]
        },
        {
            "attachments": {},
            "cell_type": "markdown",
            "metadata": {
                "azdata_cell_guid": "ee2dbb3e-efbf-4cb9-aa30-faae355f31fb",
                "language": "python"
            },
            "source": [
                "### **<mark>Caso Final</mark>** \n",
                "\n",
                "  \n",
                "\n",
                "Un profesor quiere llevar un registro de los nombres de sus estudiantes. Ayúdale a crear un programa que le permita agregar nuevos estudiantes, ver la lista completa y acceder a la información de un estudiante en particular."
            ]
        },
        {
            "cell_type": "code",
            "execution_count": 10,
            "metadata": {
                "azdata_cell_guid": "9632a0a3-3979-4a34-b08b-82179de35bc0",
                "language": "python"
            },
            "outputs": [
                {
                    "name": "stdout",
                    "output_type": "stream",
                    "text": [
                        "\n",
                        "Seleccione una opción:\n",
                        "1. Agregar nuevo estudiante\n",
                        "2. Ver la lista completa de estudiantes\n",
                        "3. Ver un estudiante en particular\n",
                        "4. Salir\n",
                        "\n",
                        " Estudiante agregado exitosamente! \n",
                        "\n",
                        "\n",
                        "Seleccione una opción:\n",
                        "1. Agregar nuevo estudiante\n",
                        "2. Ver la lista completa de estudiantes\n",
                        "3. Ver un estudiante en particular\n",
                        "4. Salir\n",
                        "\n",
                        " Estudiante agregado exitosamente! \n",
                        "\n",
                        "\n",
                        "Seleccione una opción:\n",
                        "1. Agregar nuevo estudiante\n",
                        "2. Ver la lista completa de estudiantes\n",
                        "3. Ver un estudiante en particular\n",
                        "4. Salir\n",
                        "\n",
                        " Estudiante agregado exitosamente! \n",
                        "\n",
                        "\n",
                        "Seleccione una opción:\n",
                        "1. Agregar nuevo estudiante\n",
                        "2. Ver la lista completa de estudiantes\n",
                        "3. Ver un estudiante en particular\n",
                        "4. Salir\n",
                        "\n",
                        " Lista de estudiantes: \n",
                        "\n",
                        "Estudiante: cccc\n",
                        "Estudiante: vvvv\n",
                        "Estudiante: bbbb\n",
                        "\n",
                        "Seleccione una opción:\n",
                        "1. Agregar nuevo estudiante\n",
                        "2. Ver la lista completa de estudiantes\n",
                        "3. Ver un estudiante en particular\n",
                        "4. Salir\n",
                        "\n",
                        " El estudiante es:  vvvv\n",
                        "\n",
                        "Seleccione una opción:\n",
                        "1. Agregar nuevo estudiante\n",
                        "2. Ver la lista completa de estudiantes\n",
                        "3. Ver un estudiante en particular\n",
                        "4. Salir\n",
                        "\n",
                        " Saliendo de programa ............\n",
                        " \n"
                    ]
                }
            ],
            "source": [
                "estudiantes = []\n",
                "\n",
                "def agregar_estudiante():\n",
                "    nombre = input(\"Ingrese el nombre del estudiante: \")\n",
                "    estudiantes.append(nombre)\n",
                "    print('\\n Estudiante agregado exitosamente! \\n')\n",
                "    \n",
                "def imprimir_lista():\n",
                "    print('\\n Lista de estudiantes: \\n')\n",
                "    for estudiante in  estudiantes:\n",
                "        print(f'Estudiante: {estudiante}')\n",
                "        \n",
                "def ver_estudiante():\n",
                "    indice = int(input(\"Ingrese el indice del estudiante: \"))\n",
                "    print('\\n El estudiante es: ', estudiantes[indice])\n",
                "\n",
                "while True:\n",
                "    print('\\nSeleccione una opción:')\n",
                "    print('1. Agregar nuevo estudiante')\n",
                "    print('2. Ver la lista completa de estudiantes')\n",
                "    print('3. Ver un estudiante en particular')\n",
                "    print('4. Salir')\n",
                "    \n",
                "    menu  = input('Ingrese la opción')\n",
                "    if menu == \"1\":\n",
                "        agregar_estudiante()\n",
                "    elif menu == \"2\":\n",
                "        imprimir_lista()\n",
                "    elif menu == \"3\":\n",
                "        ver_estudiante()\n",
                "    elif menu == \"4\":\n",
                "        print('\\n Saliendo de programa ............\\n ')\n",
                "        break\n",
                "    else:\n",
                "        print(\"\\n Opción inválida. Inténtelo de nuevo.\\n\")"
            ]
        }
    ],
    "metadata": {
        "kernelspec": {
            "display_name": "Python 3",
            "language": "python",
            "name": "python3"
        },
        "language_info": {
            "codemirror_mode": {
                "name": "ipython",
                "version": 3
            },
            "file_extension": ".py",
            "mimetype": "text/x-python",
            "name": "python",
            "nbconvert_exporter": "python",
            "pygments_lexer": "ipython3",
            "version": "3.13.1"
        }
    },
    "nbformat": 4,
    "nbformat_minor": 2
}
