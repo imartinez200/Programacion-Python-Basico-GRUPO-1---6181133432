{
 "cells": [
  {
   "cell_type": "markdown",
   "metadata": {},
   "source": [
    "### <center> UNIVERSIDAD NACIONAL <center>\n",
    "### <center>ESCUELA DE INFORMATICA<center>\n",
    "\n",
    "# <center>Curso<center>\n",
    "# <center>Programacion Python Basico<center>\n",
    "## <center>Investigacion<center>\n",
    "## <center>Funciones en Python en el Desarrollo de Software<center>\n",
    "# <center>Nombre estudiante:<center>\n",
    "# <center>Isaac Martinez Serrano<center>\n",
    "\n"
   ]
  },
  {
   "cell_type": "markdown",
   "metadata": {},
   "source": [
    "# Introducción \n",
    "## El siguiente notebook comprende la importancia y uso de  las funciones en Python, los programadores realizan las  funciones para optimizar el codigo de sus programas, dichas funciones pueden realizar todo tipo de calculos y acciones que contienen argumentos y/o variables a las cuales se les pasan argumentos cuando se realiza un llamado a la funcion.\n",
    "## El uso de funciones en Python es muy importante debido a la versatidad que le da a la pprogramacion, haciendo que el codigo se optimice permittiendo crear modulos para una mejor y utilizarlos repetidamente cuando sea necesario, sin necessidad de escribir todo el codigo."
   ]
  },
  {
   "cell_type": "markdown",
   "metadata": {},
   "source": [
    "# Definicion y Proposito de las Funciones en Python"
   ]
  },
  {
   "cell_type": "markdown",
   "metadata": {},
   "source": [
    "## ¿Que son las funciones en Python?\n",
    "### Las funciones en Python permiten encapsular código reutilizable, mejorando la modularización y eficiencia en el desarrollo de software."
   ]
  },
  {
   "cell_type": "code",
   "execution_count": 1,
   "metadata": {},
   "outputs": [
    {
     "name": "stdout",
     "output_type": "stream",
     "text": [
      "¡Bienvenid@ a Python!\n"
     ]
    }
   ],
   "source": [
    "##Funcion basica en Python\n",
    "def bienvenida():\n",
    "  print(\"¡Bienvenid@ a Python!\")\n",
    "bienvenida()"
   ]
  },
  {
   "cell_type": "markdown",
   "metadata": {},
   "source": [
    "## Beneficios de modularizar código con funciones\n",
    "### - Facilitan la organización del código.\n",
    "### - Mejoran la legibilidad y mantenibilidad.\n",
    "### - Permiten la reutilización del código.\n",
    "### - Reducen errores al evitar la duplicación de código."
   ]
  },
  {
   "cell_type": "markdown",
   "metadata": {},
   "source": [
    "## Importancia de la reutilización del código\n",
    "### La reutilización del código a través de funciones permite escribir código más eficiente, evitando redundancia y facilitando el mantenimiento a largo plazo."
   ]
  },
  {
   "cell_type": "code",
   "execution_count": 2,
   "metadata": {},
   "outputs": [
    {
     "name": "stdout",
     "output_type": "stream",
     "text": [
      "15\n"
     ]
    }
   ],
   "source": [
    "def sumar(numero1, numero2):\n",
    "    print(numero1 + numero2)\n",
    "\n",
    "sumar(5, 10)"
   ]
  },
  {
   "cell_type": "markdown",
   "metadata": {},
   "source": [
    "# Tipos de Funciones en Python\n",
    "## Funciones con y sin retorno"
   ]
  },
  {
   "cell_type": "markdown",
   "metadata": {},
   "source": [
    "## Sin Retorno\n",
    "### Los valores de retorno permiten que las funciones puedan realizar cálculos y operaciones, y luego pasen el resultado de vuelta al código que las llamó.\n"
   ]
  },
  {
   "cell_type": "code",
   "execution_count": 3,
   "metadata": {},
   "outputs": [
    {
     "name": "stdout",
     "output_type": "stream",
     "text": [
      "Este es un mensaje sin retorno.\n"
     ]
    }
   ],
   "source": [
    "# Función sin retorno\n",
    "def imprimir_mensaje():\n",
    "    print(\"Este es un mensaje sin retorno.\")\n",
    "\n",
    "imprimir_mensaje()"
   ]
  },
  {
   "cell_type": "markdown",
   "metadata": {},
   "source": [
    "## Con Retorno\n",
    "### Es una función que no devuelve ningún valor explícito cuando se ejecuta."
   ]
  },
  {
   "cell_type": "code",
   "execution_count": 6,
   "metadata": {},
   "outputs": [
    {
     "name": "stdout",
     "output_type": "stream",
     "text": [
      "La suma es: 8\n"
     ]
    }
   ],
   "source": [
    "# Función con retorno\n",
    "def sumar(a, b):\n",
    "    return a + b\n",
    "\n",
    "resultado = sumar(5, 3)\n",
    "print(f\"La suma es: {resultado}\")"
   ]
  },
  {
   "cell_type": "markdown",
   "metadata": {},
   "source": [
    "## Funciones con parámetros y valores predeterminados"
   ]
  },
  {
   "cell_type": "markdown",
   "metadata": {},
   "source": [
    "## Funcion con valores predeterminados\n",
    "### es una función que tiene uno o más parámetros con valores de reserva. Estos parámetros son opcionales, es decir, se pueden usar o no dependiendo de las circunstancias. "
   ]
  },
  {
   "cell_type": "code",
   "execution_count": 7,
   "metadata": {},
   "outputs": [
    {
     "name": "stdout",
     "output_type": "stream",
     "text": [
      "¡Hola, Usuario!\n",
      "¡Hola, Carlos!\n",
      "¡Hola, Usuario!\n",
      "¡Hola, Carlos!\n"
     ]
    }
   ],
   "source": [
    "# Función con valores predeterminados\n",
    "def saludar_usuario(nombre=\"Usuario\"):\n",
    "    print(f\"¡Hola, {nombre}!\")\n",
    "\n",
    "saludar_usuario()  # Usa el valor predeterminado\n",
    "saludar_usuario(\"Carlos\")# Función con valores predeterminados\n",
    "def saludar_usuario(nombre=\"Usuario\"):\n",
    "    print(f\"¡Hola, {nombre}!\")\n",
    "\n",
    "saludar_usuario()  # Usa el valor predeterminado\n",
    "saludar_usuario(\"Carlos\")"
   ]
  },
  {
   "cell_type": "markdown",
   "metadata": {},
   "source": [
    "## Funciones *args y **kwargs\n",
    "### Son funciones de Python que permiten definir funciones con un número variable de argumentos. Son útiles cuando el número de argumentos puede variar o si una función recibe demasiados argumentos. "
   ]
  },
  {
   "cell_type": "code",
   "execution_count": 11,
   "metadata": {},
   "outputs": [
    {
     "name": "stdout",
     "output_type": "stream",
     "text": [
      "nombre: Ana\n",
      "edad: 25\n",
      "ciudad: Madrid\n"
     ]
    }
   ],
   "source": [
    "# **kwargs permite recibir múltiples argumentos con nombre\n",
    "def mostrar_info(**kwargs):\n",
    "    for clave, valor in kwargs.items():\n",
    "        print(f\"{clave}: {valor}\")\n",
    "\n",
    "mostrar_info(nombre=\"Ana\", edad=25, ciudad=\"Madrid\")"
   ]
  },
  {
   "cell_type": "markdown",
   "metadata": {},
   "source": [
    "## Funciones anónimas (lambda)\n",
    "### El término “función lambda” significa función anónima en Python. Para crear una función lambda, Python utiliza la palabra clave lambda. Una expresión lambda consiste en la palabra clave lambda seguida de una lista de argumentos, dos puntos y una única expresión (“expression”)."
   ]
  },
  {
   "cell_type": "code",
   "execution_count": 16,
   "metadata": {},
   "outputs": [
    {
     "name": "stdout",
     "output_type": "stream",
     "text": [
      "16\n"
     ]
    }
   ],
   "source": [
    "# Función lambda para elevar un número al cuadrado\n",
    "cuadrado = lambda x: x**2\n",
    "print(cuadrado(4))"
   ]
  },
  {
   "cell_type": "markdown",
   "metadata": {},
   "source": [
    "## Funciones recursivas\n",
    "### Se trata de funciones que se llaman a sí mismas durante su propia ejecución. Funcionan de forma similar a las iteraciones, pero debemos encargarnos de planificar el momento en que dejan de llamarse a sí mismas o tendremos una función rescursiva infinita."
   ]
  },
  {
   "cell_type": "code",
   "execution_count": 17,
   "metadata": {},
   "outputs": [
    {
     "name": "stdout",
     "output_type": "stream",
     "text": [
      "4\n",
      "3\n",
      "2\n",
      "1\n",
      "Boooooooom!\n",
      "Fin de la función 0\n",
      "Fin de la función 1\n",
      "Fin de la función 2\n",
      "Fin de la función 3\n",
      "Fin de la función 4\n"
     ]
    }
   ],
   "source": [
    "# Cuenta regresiva hasta cero a partir de un número\n",
    "def cuenta_atras(num):\n",
    "    num -= 1\n",
    "    if num > 0:\n",
    "        print(num)\n",
    "        cuenta_atras(num)\n",
    "    else:\n",
    "        print(\"Boooooooom!\")\n",
    "    print(\"Fin de la función\", num)\n",
    "\n",
    "cuenta_atras(5)"
   ]
  },
  {
   "cell_type": "markdown",
   "metadata": {},
   "source": [
    "## Generadores (yield)\n",
    "### Las funciones generadoras en Python son funciones que usan la palabra clave yield en lugar de return. Esto permite que la función produzca un valor y recuerde su estado, para que la ejecución pueda reanudarse en ese punto en la siguiente llamada. "
   ]
  },
  {
   "cell_type": "code",
   "execution_count": 18,
   "metadata": {},
   "outputs": [
    {
     "name": "stdout",
     "output_type": "stream",
     "text": [
      "1\n",
      "2\n",
      "3\n",
      "4\n",
      "5\n"
     ]
    }
   ],
   "source": [
    "# Generador para generar una secuencia de números\n",
    "\n",
    "def contar_hasta(n):\n",
    "    contador = 1\n",
    "    while contador <= n:\n",
    "        yield contador\n",
    "        contador += 1\n",
    "\n",
    "for numero in contar_hasta(5):\n",
    "    print(numero)"
   ]
  },
  {
   "cell_type": "markdown",
   "metadata": {},
   "source": [
    "## Closures y decoradores\n",
    "### En Python, los closures son funciones anidadas que recuerdan variables de la función que las contiene, incluso después de que esta haya finalizado. \n",
    "### Los decoradores son funciones que modifican el comportamiento de otras funciones sin cambiar su código fuente. "
   ]
  },
  {
   "cell_type": "code",
   "execution_count": 19,
   "metadata": {},
   "outputs": [
    {
     "name": "stdout",
     "output_type": "stream",
     "text": [
      "30\n"
     ]
    }
   ],
   "source": [
    "# Closure en Python\n",
    "def crear_multiplicador(n):\n",
    "    def multiplicar(x):\n",
    "        return x * n\n",
    "    return multiplicar\n",
    "\n",
    "multiplicar_por_3 = crear_multiplicador(3)\n",
    "print(multiplicar_por_3(10))"
   ]
  },
  {
   "cell_type": "code",
   "execution_count": 20,
   "metadata": {},
   "outputs": [
    {
     "name": "stdout",
     "output_type": "stream",
     "text": [
      "Antes de ejecutar la función\n",
      "Hola desde una función decorada\n",
      "Después de ejecutar la función\n"
     ]
    }
   ],
   "source": [
    "# Decorador en Python\n",
    "def decorador(func):\n",
    "    def nueva_funcion():\n",
    "        print(\"Antes de ejecutar la función\")\n",
    "        func()\n",
    "        print(\"Después de ejecutar la función\")\n",
    "    return nueva_funcion\n",
    "\n",
    "@decorador\n",
    "def mensaje():\n",
    "    print(\"Hola desde una función decorada\")\n",
    "\n",
    "mensaje()"
   ]
  },
  {
   "cell_type": "markdown",
   "metadata": {},
   "source": [
    "# Aplicación de Funciones en Problemas Reales\n",
    "## Aplicación en estructuras de datos (listas, diccionarios)\n",
    "### En un sistema de gestión de inventario, podemos usar listas y diccionarios para organizar y gestionar los productos de un almacén. Supongamos que queremos mantener un control de los productos disponibles, sus cantidades y precios."
   ]
  },
  {
   "cell_type": "code",
   "execution_count": 21,
   "metadata": {},
   "outputs": [
    {
     "name": "stdout",
     "output_type": "stream",
     "text": [
      "[2, 4, 6, 8, 10]\n"
     ]
    }
   ],
   "source": [
    "# Uso de funciones en listas\n",
    "def duplicar_lista(lista):\n",
    "    return [x * 2 for x in lista]\n",
    "\n",
    "numeros = [1, 2, 3, 4, 5]\n",
    "print(duplicar_lista(numeros))"
   ]
  },
  {
   "cell_type": "code",
   "execution_count": 22,
   "metadata": {},
   "outputs": [
    {
     "name": "stdout",
     "output_type": "stream",
     "text": [
      "25\n"
     ]
    }
   ],
   "source": [
    "# Uso de funciones en diccionarios\n",
    "def obtener_valores(diccionario, clave):\n",
    "    return diccionario.get(clave, \"Clave no encontrada\")\n",
    "\n",
    "datos = {\"nombre\": \"Ana\", \"edad\": 25, \"ciudad\": \"Madrid\"}\n",
    "print(obtener_valores(datos, \"edad\"))"
   ]
  },
  {
   "cell_type": "markdown",
   "metadata": {},
   "source": [
    "## Uso de funciones en procesamiento de datos\n",
    "### El procesamiento de datos es una tarea común en diversas aplicaciones como análisis de datos, inteligencia artificial, bases de datos y automatización de tareas. El uso de funciones permite modularizar el código, hacerlo más reutilizable y eficiente."
   ]
  },
  {
   "cell_type": "code",
   "execution_count": 23,
   "metadata": {},
   "outputs": [
    {
     "name": "stdout",
     "output_type": "stream",
     "text": [
      "Promedio de ventas: 300.0\n"
     ]
    }
   ],
   "source": [
    "import pandas as pd\n",
    "\n",
    "def calcular_promedio(df, columna):\n",
    "    return df[columna].mean()\n",
    "\n",
    "datos = pd.DataFrame({\"ventas\": [100, 200, 300, 400, 500]})\n",
    "print(\"Promedio de ventas:\", calcular_promedio(datos, \"ventas\"))"
   ]
  },
  {
   "cell_type": "markdown",
   "metadata": {},
   "source": [
    "## Optimización del rendimiento con funciones\n",
    "### El código Python se puede optimizar mediante el uso de funciones y bibliotecas integradas, el refinamiento de algoritmos, la optimización de las estructuras de datos y la implementación de almacenamiento en caché o memorización cuando sea necesario . Las herramientas de creación de perfiles pueden ayudar a identificar cuellos de botella, y las técnicas de concurrencia o paralelismo pueden mejorar el rendimiento de tareas específicas."
   ]
  },
  {
   "cell_type": "code",
   "execution_count": null,
   "metadata": {},
   "outputs": [],
   "source": [
    "# Uso de memoization para optimización\n",
    "from functools import lru_cache\n",
    "\n",
    "@lru_cache(maxsize=None)\n",
    "def fibonacci(n):\n",
    "    if n <= 1:\n",
    "        return n\n",
    "    return fibonacci(n-1) + fibonacci(n-2)\n",
    "\n",
    "print(\"Fibonacci de 10:\", fibonacci(10))"
   ]
  },
  {
   "cell_type": "markdown",
   "metadata": {},
   "source": [
    "## Comparación entre funciones definidas por el usuario y funciones integradas\n",
    "### Las funciones de tabla definidas por el usuario (UDF) de Python pueden devolver varias filas y columnas para cada fila de entrada. En el ejemplo siguiente, cada valor de la columna de puntuación corresponde a una lista de categorías. Se define un UDTF para dividir la lista separada por comas en varias filas. "
   ]
  },
  {
   "cell_type": "code",
   "execution_count": 25,
   "metadata": {},
   "outputs": [
    {
     "name": "stdout",
     "output_type": "stream",
     "text": [
      "Suma con función propia: 15\n"
     ]
    }
   ],
   "source": [
    "# Uso de una función definida por el usuario\n",
    "def sumar_lista(lista):\n",
    "    total = 0\n",
    "    for num in lista:\n",
    "        total += num\n",
    "    return total\n",
    "\n",
    "print(\"Suma con función propia:\", sumar_lista(numeros))"
   ]
  },
  {
   "cell_type": "markdown",
   "metadata": {},
   "source": [
    "## Funciones Integradas\n",
    "### Las funciones integradas en Python son un conjunto de funciones que están disponibles para su uso directo en cualquier programa sin necesidad de importar módulos adicionales. Estas funciones son parte del lenguaje Python y se pueden utilizar en cualquier momento sin requerir pasos adicionales de configuración."
   ]
  },
  {
   "cell_type": "code",
   "execution_count": 24,
   "metadata": {},
   "outputs": [
    {
     "name": "stdout",
     "output_type": "stream",
     "text": [
      "Suma con sum(): 15\n"
     ]
    }
   ],
   "source": [
    "# Uso de función integrada sum()\n",
    "numeros = [1, 2, 3, 4, 5]\n",
    "print(\"Suma con sum():\", sum(numeros))"
   ]
  },
  {
   "cell_type": "markdown",
   "metadata": {},
   "source": [
    "# Conclusiones\n",
    "\n",
    "## Resumen de hallazgos\n",
    "### Las funciones en Python son una herramienta esencial para estructurar código de manera modular y reutilizable. Hemos explorado diversos tipos de funciones y su aplicación en problemas reales.\n",
    "\n",
    "## Análisis personal\n",
    "### El uso de funciones facilita la organización del código, mejora el rendimiento y permite aplicar buenas prácticas de programación. Conocer diferentes tipos de funciones ayuda a escribir código más eficiente y mantenible."
   ]
  },
  {
   "cell_type": "markdown",
   "metadata": {},
   "source": [
    "## Referencias\n",
    "### https://www.ionos.com/es-us/digitalguide/paginas-web/desarrollo-web/funciones-lambda-de-python/\n",
    "### https://www.tutorialesprogramacionya.com/pythonya/detalleconcepto.php?punto=90&codigo=91&inicio=75\n",
    "### https://www.freecodecamp.org/espanol/news/ejemplos-de-funciones-de-python-como-declarar-y-llamar-con-parametros/#:~:text=Definir%20un%20par%C3%A1metro%20con%20un,favorito%20de%20programaci%C3%B3n%20es%20python!\n",
    "### https://python-intermedio.readthedocs.io/es/latest/args_and_kwargs.html#:~:text=1.1.,de%20entrada%20de%20una%20funci%C3%B3n.&text=Espero%20que%20esto%20haya%20aclarado,args%2C%20continuemos%20con%20**kwargs.\n",
    "### https://www.datacamp.com/es/tutorial/python-generators#:~:text=Una%20funci%C3%B3n%20generadora%20se%20define,el%20que%20se%20puede%20iterar.&text=En%20el%20ejemplo%20anterior%2C%20podemos,%C3%A9sta%20devuelve%20un%20objeto%20generador.\n",
    "### https://codigoencasa.com/dominando-los-decoradores-de-python-una-guia-completa-para-mejorar-la-modularidad-y-funcionalidad-del-codigo/\n",
    "### https://learn.microsoft.com/es-es/azure/databricks/udf/#:~:text=Las%20funciones%20de%20tabla%20definidas,por%20comas%20en%20varias%20filas.\n",
    "### https://learn.microsoft.com/es-es/azure/databricks/udf/#:~:text=Las%20funciones%20de%20tabla%20definidas,por%20comas%20en%20varias%20filas.\n",
    "### https://thedataschools.com/python/funciones/funciones-integradas.html#:~:text=Las%20funciones%20integradas%20en%20Python,requerir%20pasos%20adicionales%20de%20configuraci%C3%B3n."
   ]
  }
 ],
 "metadata": {
  "kernelspec": {
   "display_name": "Python 3",
   "language": "python",
   "name": "python3"
  },
  "language_info": {
   "codemirror_mode": {
    "name": "ipython",
    "version": 3
   },
   "file_extension": ".py",
   "mimetype": "text/x-python",
   "name": "python",
   "nbconvert_exporter": "python",
   "pygments_lexer": "ipython3",
   "version": "3.13.1"
  }
 },
 "nbformat": 4,
 "nbformat_minor": 2
}
